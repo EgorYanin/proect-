{
 "cells": [
  {
   "cell_type": "code",
   "execution_count": 1,
   "id": "6a33708d-10cb-4494-8222-4b87f81d407f",
   "metadata": {},
   "outputs": [],
   "source": [
    "import pandas as pd"
   ]
  },
  {
   "cell_type": "code",
   "execution_count": 5,
   "id": "e05c5b5b-9280-4807-ab66-71209923f626",
   "metadata": {},
   "outputs": [],
   "source": [
    "df = pd.read_csv('C:/Users/egory/Desktop/Полезности/userbehaviour.csv')"
   ]
  },
  {
   "cell_type": "code",
   "execution_count": 7,
   "id": "66790ec2-a94a-4557-bb10-8a7f56dc31d2",
   "metadata": {},
   "outputs": [
    {
     "data": {
      "text/html": [
       "<div>\n",
       "<style scoped>\n",
       "    .dataframe tbody tr th:only-of-type {\n",
       "        vertical-align: middle;\n",
       "    }\n",
       "\n",
       "    .dataframe tbody tr th {\n",
       "        vertical-align: top;\n",
       "    }\n",
       "\n",
       "    .dataframe thead th {\n",
       "        text-align: right;\n",
       "    }\n",
       "</style>\n",
       "<table border=\"1\" class=\"dataframe\">\n",
       "  <thead>\n",
       "    <tr style=\"text-align: right;\">\n",
       "      <th></th>\n",
       "      <th>userid</th>\n",
       "      <th>Average Screen Time</th>\n",
       "      <th>Average Spent on App (INR)</th>\n",
       "      <th>Left Review</th>\n",
       "      <th>Ratings</th>\n",
       "      <th>New Password Request</th>\n",
       "      <th>Last Visited Minutes</th>\n",
       "      <th>Status</th>\n",
       "    </tr>\n",
       "  </thead>\n",
       "  <tbody>\n",
       "    <tr>\n",
       "      <th>0</th>\n",
       "      <td>1001</td>\n",
       "      <td>17.0</td>\n",
       "      <td>634.0</td>\n",
       "      <td>1</td>\n",
       "      <td>9</td>\n",
       "      <td>7</td>\n",
       "      <td>2990</td>\n",
       "      <td>Installed</td>\n",
       "    </tr>\n",
       "    <tr>\n",
       "      <th>1</th>\n",
       "      <td>1002</td>\n",
       "      <td>0.0</td>\n",
       "      <td>54.0</td>\n",
       "      <td>0</td>\n",
       "      <td>4</td>\n",
       "      <td>8</td>\n",
       "      <td>24008</td>\n",
       "      <td>Uninstalled</td>\n",
       "    </tr>\n",
       "    <tr>\n",
       "      <th>2</th>\n",
       "      <td>1003</td>\n",
       "      <td>37.0</td>\n",
       "      <td>207.0</td>\n",
       "      <td>0</td>\n",
       "      <td>8</td>\n",
       "      <td>5</td>\n",
       "      <td>971</td>\n",
       "      <td>Installed</td>\n",
       "    </tr>\n",
       "    <tr>\n",
       "      <th>3</th>\n",
       "      <td>1004</td>\n",
       "      <td>32.0</td>\n",
       "      <td>445.0</td>\n",
       "      <td>1</td>\n",
       "      <td>6</td>\n",
       "      <td>2</td>\n",
       "      <td>799</td>\n",
       "      <td>Installed</td>\n",
       "    </tr>\n",
       "    <tr>\n",
       "      <th>4</th>\n",
       "      <td>1005</td>\n",
       "      <td>45.0</td>\n",
       "      <td>427.0</td>\n",
       "      <td>1</td>\n",
       "      <td>5</td>\n",
       "      <td>6</td>\n",
       "      <td>3668</td>\n",
       "      <td>Installed</td>\n",
       "    </tr>\n",
       "  </tbody>\n",
       "</table>\n",
       "</div>"
      ],
      "text/plain": [
       "   userid  Average Screen Time  Average Spent on App (INR)  Left Review  \\\n",
       "0    1001                 17.0                       634.0            1   \n",
       "1    1002                  0.0                        54.0            0   \n",
       "2    1003                 37.0                       207.0            0   \n",
       "3    1004                 32.0                       445.0            1   \n",
       "4    1005                 45.0                       427.0            1   \n",
       "\n",
       "   Ratings  New Password Request  Last Visited Minutes       Status  \n",
       "0        9                     7                  2990    Installed  \n",
       "1        4                     8                 24008  Uninstalled  \n",
       "2        8                     5                   971    Installed  \n",
       "3        6                     2                   799    Installed  \n",
       "4        5                     6                  3668    Installed  "
      ]
     },
     "execution_count": 7,
     "metadata": {},
     "output_type": "execute_result"
    }
   ],
   "source": [
    "df.head()"
   ]
  },
  {
   "cell_type": "code",
   "execution_count": 9,
   "id": "ee934f51-f3a0-4748-9191-5bd3212c4eb5",
   "metadata": {},
   "outputs": [
    {
     "name": "stdout",
     "output_type": "stream",
     "text": [
      "<class 'pandas.core.frame.DataFrame'>\n",
      "RangeIndex: 999 entries, 0 to 998\n",
      "Data columns (total 8 columns):\n",
      " #   Column                      Non-Null Count  Dtype  \n",
      "---  ------                      --------------  -----  \n",
      " 0   userid                      999 non-null    int64  \n",
      " 1   Average Screen Time         999 non-null    float64\n",
      " 2   Average Spent on App (INR)  999 non-null    float64\n",
      " 3   Left Review                 999 non-null    int64  \n",
      " 4   Ratings                     999 non-null    int64  \n",
      " 5   New Password Request        999 non-null    int64  \n",
      " 6   Last Visited Minutes        999 non-null    int64  \n",
      " 7   Status                      999 non-null    object \n",
      "dtypes: float64(2), int64(5), object(1)\n",
      "memory usage: 62.6+ KB\n"
     ]
    }
   ],
   "source": [
    "df.info()"
   ]
  },
  {
   "cell_type": "code",
   "execution_count": 11,
   "id": "436c92ed-ecaf-47b1-9976-4506939d8b9c",
   "metadata": {},
   "outputs": [
    {
     "data": {
      "text/html": [
       "<div>\n",
       "<style scoped>\n",
       "    .dataframe tbody tr th:only-of-type {\n",
       "        vertical-align: middle;\n",
       "    }\n",
       "\n",
       "    .dataframe tbody tr th {\n",
       "        vertical-align: top;\n",
       "    }\n",
       "\n",
       "    .dataframe thead th {\n",
       "        text-align: right;\n",
       "    }\n",
       "</style>\n",
       "<table border=\"1\" class=\"dataframe\">\n",
       "  <thead>\n",
       "    <tr style=\"text-align: right;\">\n",
       "      <th></th>\n",
       "      <th>userid</th>\n",
       "      <th>Average Screen Time</th>\n",
       "      <th>Average Spent on App (INR)</th>\n",
       "      <th>Left Review</th>\n",
       "      <th>Ratings</th>\n",
       "      <th>New Password Request</th>\n",
       "      <th>Last Visited Minutes</th>\n",
       "    </tr>\n",
       "  </thead>\n",
       "  <tbody>\n",
       "    <tr>\n",
       "      <th>count</th>\n",
       "      <td>999.000000</td>\n",
       "      <td>999.000000</td>\n",
       "      <td>999.000000</td>\n",
       "      <td>999.000000</td>\n",
       "      <td>999.000000</td>\n",
       "      <td>999.000000</td>\n",
       "      <td>999.000000</td>\n",
       "    </tr>\n",
       "    <tr>\n",
       "      <th>mean</th>\n",
       "      <td>1500.000000</td>\n",
       "      <td>24.390390</td>\n",
       "      <td>424.415415</td>\n",
       "      <td>0.497497</td>\n",
       "      <td>6.513514</td>\n",
       "      <td>4.941942</td>\n",
       "      <td>5110.898899</td>\n",
       "    </tr>\n",
       "    <tr>\n",
       "      <th>std</th>\n",
       "      <td>288.530761</td>\n",
       "      <td>14.235415</td>\n",
       "      <td>312.365695</td>\n",
       "      <td>0.500244</td>\n",
       "      <td>2.701511</td>\n",
       "      <td>2.784626</td>\n",
       "      <td>8592.036516</td>\n",
       "    </tr>\n",
       "    <tr>\n",
       "      <th>min</th>\n",
       "      <td>1001.000000</td>\n",
       "      <td>0.000000</td>\n",
       "      <td>0.000000</td>\n",
       "      <td>0.000000</td>\n",
       "      <td>0.000000</td>\n",
       "      <td>1.000000</td>\n",
       "      <td>201.000000</td>\n",
       "    </tr>\n",
       "    <tr>\n",
       "      <th>25%</th>\n",
       "      <td>1250.500000</td>\n",
       "      <td>12.000000</td>\n",
       "      <td>96.000000</td>\n",
       "      <td>0.000000</td>\n",
       "      <td>5.000000</td>\n",
       "      <td>3.000000</td>\n",
       "      <td>1495.500000</td>\n",
       "    </tr>\n",
       "    <tr>\n",
       "      <th>50%</th>\n",
       "      <td>1500.000000</td>\n",
       "      <td>24.000000</td>\n",
       "      <td>394.000000</td>\n",
       "      <td>0.000000</td>\n",
       "      <td>7.000000</td>\n",
       "      <td>5.000000</td>\n",
       "      <td>2865.000000</td>\n",
       "    </tr>\n",
       "    <tr>\n",
       "      <th>75%</th>\n",
       "      <td>1749.500000</td>\n",
       "      <td>36.000000</td>\n",
       "      <td>717.500000</td>\n",
       "      <td>1.000000</td>\n",
       "      <td>9.000000</td>\n",
       "      <td>7.000000</td>\n",
       "      <td>4198.000000</td>\n",
       "    </tr>\n",
       "    <tr>\n",
       "      <th>max</th>\n",
       "      <td>1999.000000</td>\n",
       "      <td>50.000000</td>\n",
       "      <td>998.000000</td>\n",
       "      <td>1.000000</td>\n",
       "      <td>10.000000</td>\n",
       "      <td>15.000000</td>\n",
       "      <td>49715.000000</td>\n",
       "    </tr>\n",
       "  </tbody>\n",
       "</table>\n",
       "</div>"
      ],
      "text/plain": [
       "            userid  Average Screen Time  Average Spent on App (INR)  \\\n",
       "count   999.000000           999.000000                  999.000000   \n",
       "mean   1500.000000            24.390390                  424.415415   \n",
       "std     288.530761            14.235415                  312.365695   \n",
       "min    1001.000000             0.000000                    0.000000   \n",
       "25%    1250.500000            12.000000                   96.000000   \n",
       "50%    1500.000000            24.000000                  394.000000   \n",
       "75%    1749.500000            36.000000                  717.500000   \n",
       "max    1999.000000            50.000000                  998.000000   \n",
       "\n",
       "       Left Review     Ratings  New Password Request  Last Visited Minutes  \n",
       "count   999.000000  999.000000            999.000000            999.000000  \n",
       "mean      0.497497    6.513514              4.941942           5110.898899  \n",
       "std       0.500244    2.701511              2.784626           8592.036516  \n",
       "min       0.000000    0.000000              1.000000            201.000000  \n",
       "25%       0.000000    5.000000              3.000000           1495.500000  \n",
       "50%       0.000000    7.000000              5.000000           2865.000000  \n",
       "75%       1.000000    9.000000              7.000000           4198.000000  \n",
       "max       1.000000   10.000000             15.000000          49715.000000  "
      ]
     },
     "execution_count": 11,
     "metadata": {},
     "output_type": "execute_result"
    }
   ],
   "source": [
    "df.describe()"
   ]
  },
  {
   "cell_type": "code",
   "execution_count": 21,
   "id": "646076a1-1ad3-4b85-a23d-c51e93a2f5bc",
   "metadata": {},
   "outputs": [
    {
     "data": {
      "text/html": [
       "<div>\n",
       "<style scoped>\n",
       "    .dataframe tbody tr th:only-of-type {\n",
       "        vertical-align: middle;\n",
       "    }\n",
       "\n",
       "    .dataframe tbody tr th {\n",
       "        vertical-align: top;\n",
       "    }\n",
       "\n",
       "    .dataframe thead th {\n",
       "        text-align: right;\n",
       "    }\n",
       "</style>\n",
       "<table border=\"1\" class=\"dataframe\">\n",
       "  <thead>\n",
       "    <tr style=\"text-align: right;\">\n",
       "      <th></th>\n",
       "      <th>userid</th>\n",
       "      <th>Average Screen Time</th>\n",
       "      <th>Average Spent on App (INR)</th>\n",
       "      <th>Left Review</th>\n",
       "      <th>Ratings</th>\n",
       "      <th>New Password Request</th>\n",
       "      <th>Last Visited Minutes</th>\n",
       "    </tr>\n",
       "  </thead>\n",
       "  <tbody>\n",
       "    <tr>\n",
       "      <th>userid</th>\n",
       "      <td>1.000000</td>\n",
       "      <td>0.591883</td>\n",
       "      <td>0.963248</td>\n",
       "      <td>0.288675</td>\n",
       "      <td>0.533745</td>\n",
       "      <td>-0.494975</td>\n",
       "      <td>-0.632920</td>\n",
       "    </tr>\n",
       "    <tr>\n",
       "      <th>Average Screen Time</th>\n",
       "      <td>0.591883</td>\n",
       "      <td>1.000000</td>\n",
       "      <td>0.591428</td>\n",
       "      <td>0.539283</td>\n",
       "      <td>0.396303</td>\n",
       "      <td>-0.516616</td>\n",
       "      <td>-0.903771</td>\n",
       "    </tr>\n",
       "    <tr>\n",
       "      <th>Average Spent on App (INR)</th>\n",
       "      <td>0.963248</td>\n",
       "      <td>0.591428</td>\n",
       "      <td>1.000000</td>\n",
       "      <td>0.380377</td>\n",
       "      <td>0.551245</td>\n",
       "      <td>-0.699317</td>\n",
       "      <td>-0.712132</td>\n",
       "    </tr>\n",
       "    <tr>\n",
       "      <th>Left Review</th>\n",
       "      <td>0.288675</td>\n",
       "      <td>0.539283</td>\n",
       "      <td>0.380377</td>\n",
       "      <td>1.000000</td>\n",
       "      <td>-0.396203</td>\n",
       "      <td>-0.408248</td>\n",
       "      <td>-0.390816</td>\n",
       "    </tr>\n",
       "    <tr>\n",
       "      <th>Ratings</th>\n",
       "      <td>0.533745</td>\n",
       "      <td>0.396303</td>\n",
       "      <td>0.551245</td>\n",
       "      <td>-0.396203</td>\n",
       "      <td>1.000000</td>\n",
       "      <td>-0.539164</td>\n",
       "      <td>-0.659160</td>\n",
       "    </tr>\n",
       "    <tr>\n",
       "      <th>New Password Request</th>\n",
       "      <td>-0.494975</td>\n",
       "      <td>-0.516616</td>\n",
       "      <td>-0.699317</td>\n",
       "      <td>-0.408248</td>\n",
       "      <td>-0.539164</td>\n",
       "      <td>1.000000</td>\n",
       "      <td>0.796566</td>\n",
       "    </tr>\n",
       "    <tr>\n",
       "      <th>Last Visited Minutes</th>\n",
       "      <td>-0.632920</td>\n",
       "      <td>-0.903771</td>\n",
       "      <td>-0.712132</td>\n",
       "      <td>-0.390816</td>\n",
       "      <td>-0.659160</td>\n",
       "      <td>0.796566</td>\n",
       "      <td>1.000000</td>\n",
       "    </tr>\n",
       "  </tbody>\n",
       "</table>\n",
       "</div>"
      ],
      "text/plain": [
       "                              userid  Average Screen Time  \\\n",
       "userid                      1.000000             0.591883   \n",
       "Average Screen Time         0.591883             1.000000   \n",
       "Average Spent on App (INR)  0.963248             0.591428   \n",
       "Left Review                 0.288675             0.539283   \n",
       "Ratings                     0.533745             0.396303   \n",
       "New Password Request       -0.494975            -0.516616   \n",
       "Last Visited Minutes       -0.632920            -0.903771   \n",
       "\n",
       "                            Average Spent on App (INR)  Left Review   Ratings  \\\n",
       "userid                                        0.963248     0.288675  0.533745   \n",
       "Average Screen Time                           0.591428     0.539283  0.396303   \n",
       "Average Spent on App (INR)                    1.000000     0.380377  0.551245   \n",
       "Left Review                                   0.380377     1.000000 -0.396203   \n",
       "Ratings                                       0.551245    -0.396203  1.000000   \n",
       "New Password Request                         -0.699317    -0.408248 -0.539164   \n",
       "Last Visited Minutes                         -0.712132    -0.390816 -0.659160   \n",
       "\n",
       "                            New Password Request  Last Visited Minutes  \n",
       "userid                                 -0.494975             -0.632920  \n",
       "Average Screen Time                    -0.516616             -0.903771  \n",
       "Average Spent on App (INR)             -0.699317             -0.712132  \n",
       "Left Review                            -0.408248             -0.390816  \n",
       "Ratings                                -0.539164             -0.659160  \n",
       "New Password Request                    1.000000              0.796566  \n",
       "Last Visited Minutes                    0.796566              1.000000  "
      ]
     },
     "execution_count": 21,
     "metadata": {},
     "output_type": "execute_result"
    }
   ],
   "source": [
    "df[1:6].corr(numeric_only=True)"
   ]
  },
  {
   "cell_type": "code",
   "execution_count": 23,
   "id": "575bc101-b8f4-4b42-b3c2-56509a20a30e",
   "metadata": {},
   "outputs": [
    {
     "data": {
      "text/plain": [
       "userid                        0\n",
       "Average Screen Time           0\n",
       "Average Spent on App (INR)    0\n",
       "Left Review                   0\n",
       "Ratings                       0\n",
       "New Password Request          0\n",
       "Last Visited Minutes          0\n",
       "Status                        0\n",
       "dtype: int64"
      ]
     },
     "execution_count": 23,
     "metadata": {},
     "output_type": "execute_result"
    }
   ],
   "source": [
    "df.isnull().sum()"
   ]
  },
  {
   "cell_type": "code",
   "execution_count": 25,
   "id": "8cf5b3ad-f764-4e7d-b11c-d7d85578d275",
   "metadata": {},
   "outputs": [],
   "source": [
    "df.dropna(inplace=True)"
   ]
  },
  {
   "cell_type": "code",
   "execution_count": 27,
   "id": "0134dead-6dc1-45a6-82b0-8f1bd66cbac1",
   "metadata": {},
   "outputs": [],
   "source": [
    "df.drop_duplicates(inplace=True)"
   ]
  },
  {
   "cell_type": "code",
   "execution_count": 29,
   "id": "afca5a19-cdb5-4356-8b3f-f48ee7eefcc9",
   "metadata": {},
   "outputs": [],
   "source": [
    "import numpy as np\n",
    "import seaborn as sns\n",
    "import matplotlib as plt"
   ]
  },
  {
   "cell_type": "code",
   "execution_count": 33,
   "id": "9a5f7ff7-9804-4fb7-b6a6-e5ae4e1366f8",
   "metadata": {},
   "outputs": [
    {
     "data": {
      "text/plain": [
       "<Axes: xlabel='Average Screen Time'>"
      ]
     },
     "execution_count": 33,
     "metadata": {},
     "output_type": "execute_result"
    },
    {
     "data": {
      "image/png": "[encoded data removed]",
      "text/plain": [
       "<Figure size 640x480 with 1 Axes>"
      ]
     },
     "metadata": {},
     "output_type": "display_data"
    }
   ],
   "source": [
    "sns.boxplot(data = df, x = 'Average Screen Time')"
   ]
  },
  {
   "cell_type": "code",
   "execution_count": 35,
   "id": "3bb814a5-74b5-49da-ae8c-e61823b5f3cf",
   "metadata": {},
   "outputs": [
    {
     "data": {
      "text/plain": [
       "<Axes: xlabel='Average Spent on App (INR)'>"
      ]
     },
     "execution_count": 35,
     "metadata": {},
     "output_type": "execute_result"
    },
    {
     "data": {
      "image/png": "[encoded data removed]",
      "text/plain": [
       "<Figure size 640x480 with 1 Axes>"
      ]
     },
     "metadata": {},
     "output_type": "display_data"
    }
   ],
   "source": [
    "sns.boxplot(data = df, x = 'Average Spent on App (INR)')"
   ]
  },
  {
   "cell_type": "code",
   "execution_count": 40,
   "id": "b4bcde93-a929-4af8-809a-08f0c0c2ee9b",
   "metadata": {},
   "outputs": [
    {
     "data": {
      "text/plain": [
       "<Axes: xlabel='Ratings'>"
      ]
     },
     "execution_count": 40,
     "metadata": {},
     "output_type": "execute_result"
    },
    {
     "data": {
      "image/png": "[encoded data removed]",
      "text/plain": [
       "<Figure size 640x480 with 1 Axes>"
      ]
     },
     "metadata": {},
     "output_type": "display_data"
    }
   ],
   "source": [
    "sns.boxplot(data = df, x = 'Ratings')"
   ]
  },
  {
   "cell_type": "code",
   "execution_count": 42,
   "id": "733aebde-124b-4829-a451-2efa7fa55b39",
   "metadata": {},
   "outputs": [
    {
     "data": {
      "text/plain": [
       "<Axes: xlabel='New Password Request'>"
      ]
     },
     "execution_count": 42,
     "metadata": {},
     "output_type": "execute_result"
    },
    {
     "data": {
      "image/png": "[encoded data removed]",
      "text/plain": [
       "<Figure size 640x480 with 1 Axes>"
      ]
     },
     "metadata": {},
     "output_type": "display_data"
    }
   ],
   "source": [
    "sns.boxplot(data = df, x = 'New Password Request')"
   ]
  },
  {
   "cell_type": "code",
   "execution_count": 46,
   "id": "360a687e-84f7-4539-a9b8-e17461a35ce0",
   "metadata": {},
   "outputs": [],
   "source": [
    "Q1 = df['New Password Request'].quantile(0.25)\n",
    "Q3 = df['New Password Request'].quantile(0.75)\n",
    "IQR = Q3 - Q1\n",
    "df = df[(df['New Password Request'] >= Q1 - 1.5*IQR) & (df['New Password Request'] <= Q3 + 1.5*IQR)]"
   ]
  },
  {
   "cell_type": "code",
   "execution_count": null,
   "id": "3680c800-60b1-43aa-8098-457d4f222a04",
   "metadata": {},
   "outputs": [],
   "source": []
  }
 ],
 "metadata": {
  "kernelspec": {
   "display_name": "Python [conda env:base] *",
   "language": "python",
   "name": "conda-base-py"
  },
  "language_info": {
   "codemirror_mode": {
    "name": "ipython",
    "version": 3
   },
   "file_extension": ".py",
   "mimetype": "text/x-python",
   "name": "python",
   "nbconvert_exporter": "python",
   "pygments_lexer": "ipython3",
   "version": "3.11.7"
  }
 },
 "nbformat": 4,
 "nbformat_minor": 5
}
