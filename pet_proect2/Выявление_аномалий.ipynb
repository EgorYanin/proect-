{
 "cells": [
  {
   "cell_type": "code",
   "execution_count": 8,
   "id": "d92ec878-04f3-41f2-bd69-0c6c8cb342d0",
   "metadata": {},
   "outputs": [],
   "source": [
    "import pandas as pd"
   ]
  },
  {
   "cell_type": "code",
   "execution_count": 10,
   "id": "315d1129-49cf-4c56-9c44-0b622ed86a26",
   "metadata": {},
   "outputs": [],
   "source": [
    "file_path = \"C:/Users/egory/Downloads/views_statistics.csv\"\n",
    "df = pd.read_csv(file_path)\n"
   ]
  },
  {
   "cell_type": "code",
   "execution_count": 12,
   "id": "152412de-ba20-4874-951f-6dd6af7f6700",
   "metadata": {},
   "outputs": [
    {
     "data": {
      "text/html": [
       "<div>\n",
       "<style scoped>\n",
       "    .dataframe tbody tr th:only-of-type {\n",
       "        vertical-align: middle;\n",
       "    }\n",
       "\n",
       "    .dataframe tbody tr th {\n",
       "        vertical-align: top;\n",
       "    }\n",
       "\n",
       "    .dataframe thead th {\n",
       "        text-align: right;\n",
       "    }\n",
       "</style>\n",
       "<table border=\"1\" class=\"dataframe\">\n",
       "  <thead>\n",
       "    <tr style=\"text-align: right;\">\n",
       "      <th></th>\n",
       "      <th>time</th>\n",
       "      <th>user_id</th>\n",
       "      <th>ip</th>\n",
       "      <th>video_id</th>\n",
       "      <th>platform</th>\n",
       "    </tr>\n",
       "  </thead>\n",
       "  <tbody>\n",
       "    <tr>\n",
       "      <th>0</th>\n",
       "      <td>2025-02-20 00:00:00.000</td>\n",
       "      <td>1964</td>\n",
       "      <td>115.140.58.148</td>\n",
       "      <td>18318</td>\n",
       "      <td>android</td>\n",
       "    </tr>\n",
       "    <tr>\n",
       "      <th>1</th>\n",
       "      <td>2025-02-20 00:00:00.750</td>\n",
       "      <td>1573</td>\n",
       "      <td>160.179.46.24</td>\n",
       "      <td>13693</td>\n",
       "      <td>android</td>\n",
       "    </tr>\n",
       "    <tr>\n",
       "      <th>2</th>\n",
       "      <td>2025-02-20 00:00:02.750</td>\n",
       "      <td>2223</td>\n",
       "      <td>228.214.166.91</td>\n",
       "      <td>84713</td>\n",
       "      <td>android</td>\n",
       "    </tr>\n",
       "    <tr>\n",
       "      <th>3</th>\n",
       "      <td>2025-02-20 00:00:05.750</td>\n",
       "      <td>1126</td>\n",
       "      <td>184.57.115.70</td>\n",
       "      <td>35616</td>\n",
       "      <td>iphone</td>\n",
       "    </tr>\n",
       "    <tr>\n",
       "      <th>4</th>\n",
       "      <td>2025-02-20 00:00:07.750</td>\n",
       "      <td>26</td>\n",
       "      <td>172.10.12.34</td>\n",
       "      <td>34873</td>\n",
       "      <td>android</td>\n",
       "    </tr>\n",
       "  </tbody>\n",
       "</table>\n",
       "</div>"
      ],
      "text/plain": [
       "                      time  user_id              ip  video_id platform\n",
       "0  2025-02-20 00:00:00.000     1964  115.140.58.148     18318  android\n",
       "1  2025-02-20 00:00:00.750     1573   160.179.46.24     13693  android\n",
       "2  2025-02-20 00:00:02.750     2223  228.214.166.91     84713  android\n",
       "3  2025-02-20 00:00:05.750     1126   184.57.115.70     35616   iphone\n",
       "4  2025-02-20 00:00:07.750       26    172.10.12.34     34873  android"
      ]
     },
     "execution_count": 12,
     "metadata": {},
     "output_type": "execute_result"
    }
   ],
   "source": [
    "df.head()"
   ]
  },
  {
   "cell_type": "code",
   "execution_count": 14,
   "id": "d43b5074-7b6e-432d-bb77-cb872388189b",
   "metadata": {},
   "outputs": [],
   "source": [
    "df[\"time\"] = pd.to_datetime(df[\"time\"])"
   ]
  },
  {
   "cell_type": "code",
   "execution_count": 16,
   "id": "6567b733-f5f3-41f7-8f43-55c9f802d07e",
   "metadata": {},
   "outputs": [],
   "source": [
    "df[\"time_diff\"] = df.groupby(\"user_id\")[\"time\"].diff().dt.total_seconds()"
   ]
  },
  {
   "cell_type": "code",
   "execution_count": 18,
   "id": "cbc4ad6b-fa65-4db4-8b66-1e9d93759cba",
   "metadata": {},
   "outputs": [],
   "source": [
    "fast_views = df[df[\"time_diff\"] < 3]"
   ]
  },
  {
   "cell_type": "code",
   "execution_count": 22,
   "id": "3d7abac1-7d14-40d9-b9eb-d37904b42937",
   "metadata": {},
   "outputs": [],
   "source": [
    "ip_counts = df.groupby(\"ip\")[\"user_id\"].nunique()\n",
    "suspicious_ips = ip_counts[ip_counts > 5].index"
   ]
  },
  {
   "cell_type": "code",
   "execution_count": 24,
   "id": "abaa6ac6-aa3f-485a-a1e9-49cd867c72f1",
   "metadata": {},
   "outputs": [],
   "source": [
    "platform_counts = df[\"platform\"].value_counts()"
   ]
  },
  {
   "cell_type": "code",
   "execution_count": 28,
   "id": "4196a570-9dd5-4c87-af75-58aa626745e2",
   "metadata": {},
   "outputs": [],
   "source": [
    "df[\"hour\"] = df[\"time\"].dt.hour\n",
    "night_activity = df[(df[\"hour\"] < 5) & (df[\"hour\"] > 1)]"
   ]
  },
  {
   "cell_type": "code",
   "execution_count": 30,
   "id": "fa0bbe67-bf55-45ef-826e-d1d8a0fb432e",
   "metadata": {},
   "outputs": [],
   "source": [
    "df_cleaned = df[~df.index.isin(fast_views.index) & ~df[\"ip\"].isin(suspicious_ips)]"
   ]
  },
  {
   "cell_type": "code",
   "execution_count": 32,
   "id": "08435a46-6b12-450d-926b-dd46cfc2091a",
   "metadata": {},
   "outputs": [],
   "source": [
    "df_cleaned = df_cleaned.drop(columns=[\"time_diff\", \"hour\"])"
   ]
  },
  {
   "cell_type": "code",
   "execution_count": 34,
   "id": "591fc501-6f35-4e8d-9f2f-c21f0ae8206e",
   "metadata": {},
   "outputs": [],
   "source": [
    "cleaned_file_path = \"C:/Users/egory/Downloads/views_statistics_cleaned.csv\"\n",
    "df_cleaned.to_csv(cleaned_file_path, index=False)"
   ]
  },
  {
   "cell_type": "code",
   "execution_count": 36,
   "id": "e926f1da-ea8f-4bbe-8189-1d06f62340ad",
   "metadata": {},
   "outputs": [],
   "source": [
    "fast_views_count = len(fast_views)\n",
    "suspicious_ips_count = len(suspicious_ips)\n",
    "night_activity_count = len(night_activity)"
   ]
  },
  {
   "cell_type": "code",
   "execution_count": 38,
   "id": "9eb582d3-a449-40a9-9996-9740f0d6800a",
   "metadata": {},
   "outputs": [
    {
     "data": {
      "text/plain": [
       "(2941, 1, 2773, 'C:/Users/egory/Downloads/views_statistics_cleaned.csv')"
      ]
     },
     "execution_count": 38,
     "metadata": {},
     "output_type": "execute_result"
    }
   ],
   "source": [
    "fast_views_count, suspicious_ips_count, night_activity_count, cleaned_file_path"
   ]
  },
  {
   "cell_type": "code",
   "execution_count": 40,
   "id": "11a8118e-6b4b-47bb-bd0c-ea85e0daa7b3",
   "metadata": {},
   "outputs": [
    {
     "data": {
      "text/plain": [
       "'Мы обнаружили случаи, когда пользователи просматривали видео с интервалом менее 3 секунд между последовательными просмотрами. Всего таких случаев оказалось 2941, и они были исключены из данных. Были найдены IP-адреса, с которых видео просматривалось более чем 5 разными пользователями. Это может свидетельствовать о накрутке просмотров. В итоге был выявлен 1 такой IP, и все связанные с ним просмотры удалены. Мы также зафиксировали высокую активность в ночные часы (с 01:00 до 05:00). Такие просмотры считаются подозрительными, так как в это время активность пользователей обычно минимальна. В итоге было выявлено 2773 просмотра, которые также были исключены.'"
      ]
     },
     "execution_count": 40,
     "metadata": {},
     "output_type": "execute_result"
    }
   ],
   "source": [
    "'''Мы обнаружили случаи, когда пользователи просматривали видео с интервалом менее 3 секунд между последовательными просмотрами. Всего таких случаев оказалось 2941, и они были исключены из данных. Были найдены IP-адреса, с которых видео просматривалось более чем 5 разными пользователями. Это может свидетельствовать о накрутке просмотров. В итоге был выявлен 1 такой IP, и все связанные с ним просмотры удалены. Мы также зафиксировали высокую активность в ночные часы (с 01:00 до 05:00). Такие просмотры считаются подозрительными, так как в это время активность пользователей обычно минимальна. В итоге было выявлено 2773 просмотра, которые также были исключены.'''"
   ]
  },
  {
   "cell_type": "code",
   "execution_count": null,
   "id": "586df65f-989c-4164-a6a2-bd56569ed0e5",
   "metadata": {},
   "outputs": [],
   "source": []
  }
 ],
 "metadata": {
  "kernelspec": {
   "display_name": "Python [conda env:base] *",
   "language": "python",
   "name": "conda-base-py"
  },
  "language_info": {
   "codemirror_mode": {
    "name": "ipython",
    "version": 3
   },
   "file_extension": ".py",
   "mimetype": "text/x-python",
   "name": "python",
   "nbconvert_exporter": "python",
   "pygments_lexer": "ipython3",
   "version": "3.11.7"
  }
 },
 "nbformat": 4,
 "nbformat_minor": 5
}
