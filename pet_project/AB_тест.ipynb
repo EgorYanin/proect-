{
 "cells": [
  {
   "cell_type": "code",
   "execution_count": 4,
   "id": "38783b97-0111-407a-b07b-cc09f7956756",
   "metadata": {},
   "outputs": [],
   "source": [
    "import pandas as pd\n",
    "import numpy as np\n",
    "from scipy import stats"
   ]
  },
  {
   "cell_type": "code",
   "execution_count": 6,
   "id": "2f11d911-5699-48e8-a80d-9f6c79a8c522",
   "metadata": {},
   "outputs": [],
   "source": [
    "df = pd.read_csv('C:/Users/egory/Desktop/Полезности/userbehaviour.csv')"
   ]
  },
  {
   "cell_type": "markdown",
   "id": "4e3f3876-9f8d-490c-a3ae-5db748a74d3f",
   "metadata": {},
   "source": [
    "1. Сплит пользователей на контроль и тест "
   ]
  },
  {
   "cell_type": "code",
   "execution_count": 13,
   "id": "96c05aa2-1556-4c90-9836-b4f186612c31",
   "metadata": {},
   "outputs": [],
   "source": [
    "np.random.seed(42)"
   ]
  },
  {
   "cell_type": "code",
   "execution_count": 17,
   "id": "8275cce3-51cb-464c-a4df-30c1397ffd03",
   "metadata": {},
   "outputs": [],
   "source": [
    "df = df.sample(frac=1, random_state=42).reset_index(drop=True)"
   ]
  },
  {
   "cell_type": "code",
   "execution_count": 19,
   "id": "08a95c64-a570-445a-945c-590a62f47cc1",
   "metadata": {},
   "outputs": [],
   "source": [
    "df['group'] = np.random.choice(['control', 'test'], size=len(df))"
   ]
  },
  {
   "cell_type": "markdown",
   "id": "bdd27f9f-f298-44d7-ade9-77c7ab1587e7",
   "metadata": {},
   "source": [
    "2. Определим метрики "
   ]
  },
  {
   "cell_type": "code",
   "execution_count": 22,
   "id": "8a2d31a5-3b86-4da4-aac4-dbc62bbae635",
   "metadata": {},
   "outputs": [],
   "source": [
    "binary_metrics = [\"Left Review\"]\n",
    "continuous_metrics = [\"Average Spent on App (INR)\", \"Average Screen Time\", \"Ratings\"]"
   ]
  },
  {
   "cell_type": "markdown",
   "id": "97f1414d-7261-43b4-98c1-ee78dfdaf1bc",
   "metadata": {},
   "source": [
    "3. Z-тест для бинарной метрики "
   ]
  },
  {
   "cell_type": "code",
   "execution_count": 25,
   "id": "4f6ce233-de40-4860-a6d4-e4f121727666",
   "metadata": {},
   "outputs": [],
   "source": [
    "def two_prop_ztest(success_a, n_a, success_b, n_b):\n",
    "    p1, p2 = success_a / n_a, success_b / n_b\n",
    "    p = (success_a + success_b) / (n_a + n_b)   \n",
    "    se = np.sqrt(p * (1 - p) * (1/n_a + 1/n_b))\n",
    "    z = (p2 - p1) / se\n",
    "    pval = 2 * (1 - stats.norm.cdf(abs(z)))     \n",
    "    return p1, p2, z, pval"
   ]
  },
  {
   "cell_type": "code",
   "execution_count": 37,
   "id": "d5cc18a8-3c96-486d-89e8-3a7d8cd88d90",
   "metadata": {},
   "outputs": [
    {
     "name": "stdout",
     "output_type": "stream",
     "text": [
      "Метрика: Left Review\n",
      "Control mean = 0.483, Test mean = 0.512\n",
      "Z-stat = 0.921, p-value = 0.3570\n"
     ]
    }
   ],
   "source": [
    "m = \"Left Review\" \n",
    "control = df[df[\"group\"] == \"control\"][m]\n",
    "test = df[df[\"group\"] == \"test\"][m]\n",
    "\n",
    "p1, p2, z, pval = two_prop_ztest(control.sum(), len(control), test.sum(), len(test))\n",
    "\n",
    "print(f\"Метрика: {m}\")\n",
    "print(f\"Control mean = {p1:.3f}, Test mean = {p2:.3f}\")\n",
    "print(f\"Z-stat = {z:.3f}, p-value = {pval:.4f}\")"
   ]
  },
  {
   "cell_type": "markdown",
   "id": "1ea0e620-8351-4858-a5fc-a947786ebcc8",
   "metadata": {},
   "source": [
    "Эксперимент в текущем виде не показал значимого эффекта: изменений в поведении пользователей нет (с точки зрения статистики)"
   ]
  },
  {
   "cell_type": "markdown",
   "id": "0b65adf0-964a-4872-a33e-d15832140f04",
   "metadata": {},
   "source": [
    "4. t-тест для непрерывных метрик"
   ]
  },
  {
   "cell_type": "code",
   "execution_count": 45,
   "id": "b5f79d25-d3b7-42f7-9e77-23b90d77c516",
   "metadata": {},
   "outputs": [
    {
     "name": "stdout",
     "output_type": "stream",
     "text": [
      "\n",
      "Метрика: Average Spent on App (INR)\n",
      "Control mean = 416.47, Test mean = 432.03\n",
      "t-stat = -0.787, p-value = 0.4315\n",
      "\n",
      "Метрика: Average Screen Time\n",
      "Control mean = 23.92, Test mean = 24.84\n",
      "t-stat = -1.026, p-value = 0.3050\n",
      "\n",
      "Метрика: Ratings\n",
      "Control mean = 6.45, Test mean = 6.57\n",
      "t-stat = -0.705, p-value = 0.4808\n"
     ]
    }
   ],
   "source": [
    "for m in continuous_metrics:\n",
    "    control = df[df[\"group\"] == \"control\"][m]\n",
    "    test = df[df[\"group\"] == \"test\"][m]\n",
    "    t_stat, pval = stats.ttest_ind(control, test, equal_var=False)\n",
    "    print(f\"\\nМетрика: {m}\")\n",
    "    print(f\"Control mean = {control.mean():.2f}, Test mean = {test.mean():.2f}\")\n",
    "    print(f\"t-stat = {t_stat:.3f}, p-value = {pval:.4f}\")"
   ]
  },
  {
   "cell_type": "markdown",
   "id": "18941805-6cca-4fb1-ad45-2ca48e7ee137",
   "metadata": {},
   "source": [
    "Все проверенные метрики (расходы, экранное время, рейтинги) показывают чуть лучшие результаты в тесте, но во всех случаях p-value значительно выше 0.05. Это значит, что эксперимент не выявил статистически значимых различий между тестовой и контрольной группами."
   ]
  },
  {
   "cell_type": "code",
   "execution_count": null,
   "id": "fe384fc7-1afe-47c4-9766-5e6c0861149a",
   "metadata": {},
   "outputs": [],
   "source": []
  }
 ],
 "metadata": {
  "kernelspec": {
   "display_name": "Python [conda env:base] *",
   "language": "python",
   "name": "conda-base-py"
  },
  "language_info": {
   "codemirror_mode": {
    "name": "ipython",
    "version": 3
   },
   "file_extension": ".py",
   "mimetype": "text/x-python",
   "name": "python",
   "nbconvert_exporter": "python",
   "pygments_lexer": "ipython3",
   "version": "3.11.7"
  }
 },
 "nbformat": 4,
 "nbformat_minor": 5
}
